{
 "cells": [
  {
   "cell_type": "code",
   "execution_count": 1,
   "id": "ebb420b1",
   "metadata": {},
   "outputs": [],
   "source": [
    "import pandas as pd\n",
    "import numpy as np\n",
    "import seaborn as sns\n",
    "import matplotlib.pyplot as plt\n",
    "from sklearn.metrics import confusion_matrix ,classification_report,precision_score, recall_score ,f1_score, roc_curve, roc_auc_score, accuracy_score\n",
    "from sklearn.model_selection import train_test_split\n",
    "from sklearn.linear_model import LogisticRegression \n",
    "from sklearn.ensemble import RandomForestClassifier\n",
    "from sklearn.neighbors import KNeighborsClassifier\n",
    "from sklearn.tree import DecisionTreeClassifier\n",
    "from sklearn.naive_bayes import GaussianNB\n",
    "from sklearn.svm import SVC\n",
    "from sklearn.model_selection import GridSearchCV"
   ]
  },
  {
   "cell_type": "code",
   "execution_count": 2,
   "id": "8d365aa8",
   "metadata": {},
   "outputs": [],
   "source": [
    "import warnings\n",
    "warnings.filterwarnings(\"ignore\")"
   ]
  },
  {
   "cell_type": "markdown",
   "id": "fff21829",
   "metadata": {},
   "source": [
    "# Load Data"
   ]
  },
  {
   "cell_type": "code",
   "execution_count": 3,
   "id": "34bac9d9",
   "metadata": {},
   "outputs": [],
   "source": [
    "train = pd.read_csv('./msbd5001-spring-2022/train.csv')\n",
    "test = pd.read_csv('./msbd5001-spring-2022/test.csv')\n",
    "sample = pd.read_csv('./msbd5001-spring-2022/sample_submission.csv')"
   ]
  },
  {
   "cell_type": "code",
   "execution_count": 4,
   "id": "60a47040",
   "metadata": {},
   "outputs": [
    {
     "data": {
      "text/html": [
       "<div>\n",
       "<style scoped>\n",
       "    .dataframe tbody tr th:only-of-type {\n",
       "        vertical-align: middle;\n",
       "    }\n",
       "\n",
       "    .dataframe tbody tr th {\n",
       "        vertical-align: top;\n",
       "    }\n",
       "\n",
       "    .dataframe thead th {\n",
       "        text-align: right;\n",
       "    }\n",
       "</style>\n",
       "<table border=\"1\" class=\"dataframe\">\n",
       "  <thead>\n",
       "    <tr style=\"text-align: right;\">\n",
       "      <th></th>\n",
       "      <th>id</th>\n",
       "      <th>MO HLADR+ MFI (cells/ul)</th>\n",
       "      <th>Neu CD64+MFI (cells/ul)</th>\n",
       "      <th>CD3+T (cells/ul)</th>\n",
       "      <th>CD8+T (cells/ul)</th>\n",
       "      <th>CD4+T (cells/ul)</th>\n",
       "      <th>NK (cells/ul)</th>\n",
       "      <th>CD19+ (cells/ul)</th>\n",
       "      <th>CD45+ (cells/ul)</th>\n",
       "      <th>Age</th>\n",
       "      <th>Sex 0M1F</th>\n",
       "      <th>Mono CD64+MFI (cells/ul)</th>\n",
       "      <th>label</th>\n",
       "    </tr>\n",
       "  </thead>\n",
       "  <tbody>\n",
       "    <tr>\n",
       "      <th>0</th>\n",
       "      <td>0</td>\n",
       "      <td>3556.0</td>\n",
       "      <td>2489.0</td>\n",
       "      <td>265.19</td>\n",
       "      <td>77.53</td>\n",
       "      <td>176.55</td>\n",
       "      <td>0.00</td>\n",
       "      <td>4.20</td>\n",
       "      <td>307.91</td>\n",
       "      <td>52</td>\n",
       "      <td>0</td>\n",
       "      <td>7515.0</td>\n",
       "      <td>1</td>\n",
       "    </tr>\n",
       "    <tr>\n",
       "      <th>1</th>\n",
       "      <td>1</td>\n",
       "      <td>1906.0</td>\n",
       "      <td>134.0</td>\n",
       "      <td>1442.61</td>\n",
       "      <td>551.90</td>\n",
       "      <td>876.07</td>\n",
       "      <td>112.10</td>\n",
       "      <td>168.15</td>\n",
       "      <td>1735.48</td>\n",
       "      <td>20</td>\n",
       "      <td>1</td>\n",
       "      <td>1756.0</td>\n",
       "      <td>0</td>\n",
       "    </tr>\n",
       "    <tr>\n",
       "      <th>2</th>\n",
       "      <td>2</td>\n",
       "      <td>1586.0</td>\n",
       "      <td>71.0</td>\n",
       "      <td>1332.74</td>\n",
       "      <td>684.20</td>\n",
       "      <td>655.26</td>\n",
       "      <td>244.95</td>\n",
       "      <td>216.52</td>\n",
       "      <td>1820.04</td>\n",
       "      <td>28</td>\n",
       "      <td>1</td>\n",
       "      <td>1311.0</td>\n",
       "      <td>0</td>\n",
       "    </tr>\n",
       "    <tr>\n",
       "      <th>3</th>\n",
       "      <td>3</td>\n",
       "      <td>683.0</td>\n",
       "      <td>94.0</td>\n",
       "      <td>419.23</td>\n",
       "      <td>255.80</td>\n",
       "      <td>162.17</td>\n",
       "      <td>72.05</td>\n",
       "      <td>44.68</td>\n",
       "      <td>538.22</td>\n",
       "      <td>55</td>\n",
       "      <td>1</td>\n",
       "      <td>1443.0</td>\n",
       "      <td>0</td>\n",
       "    </tr>\n",
       "    <tr>\n",
       "      <th>4</th>\n",
       "      <td>4</td>\n",
       "      <td>1032.0</td>\n",
       "      <td>71.0</td>\n",
       "      <td>1102.72</td>\n",
       "      <td>480.27</td>\n",
       "      <td>625.30</td>\n",
       "      <td>188.78</td>\n",
       "      <td>130.77</td>\n",
       "      <td>1427.97</td>\n",
       "      <td>28</td>\n",
       "      <td>1</td>\n",
       "      <td>1542.0</td>\n",
       "      <td>0</td>\n",
       "    </tr>\n",
       "  </tbody>\n",
       "</table>\n",
       "</div>"
      ],
      "text/plain": [
       "   id  MO HLADR+ MFI (cells/ul)  Neu CD64+MFI (cells/ul)  CD3+T (cells/ul)  \\\n",
       "0   0                    3556.0                   2489.0            265.19   \n",
       "1   1                    1906.0                    134.0           1442.61   \n",
       "2   2                    1586.0                     71.0           1332.74   \n",
       "3   3                     683.0                     94.0            419.23   \n",
       "4   4                    1032.0                     71.0           1102.72   \n",
       "\n",
       "   CD8+T (cells/ul)  CD4+T (cells/ul)  NK (cells/ul)  CD19+ (cells/ul)  \\\n",
       "0             77.53            176.55           0.00              4.20   \n",
       "1            551.90            876.07         112.10            168.15   \n",
       "2            684.20            655.26         244.95            216.52   \n",
       "3            255.80            162.17          72.05             44.68   \n",
       "4            480.27            625.30         188.78            130.77   \n",
       "\n",
       "   CD45+ (cells/ul)  Age  Sex 0M1F  Mono CD64+MFI (cells/ul)  label  \n",
       "0            307.91   52         0                    7515.0      1  \n",
       "1           1735.48   20         1                    1756.0      0  \n",
       "2           1820.04   28         1                    1311.0      0  \n",
       "3            538.22   55         1                    1443.0      0  \n",
       "4           1427.97   28         1                    1542.0      0  "
      ]
     },
     "execution_count": 4,
     "metadata": {},
     "output_type": "execute_result"
    }
   ],
   "source": [
    "train.head()"
   ]
  },
  {
   "cell_type": "code",
   "execution_count": 5,
   "id": "73d959ef",
   "metadata": {},
   "outputs": [
    {
     "data": {
      "text/html": [
       "<div>\n",
       "<style scoped>\n",
       "    .dataframe tbody tr th:only-of-type {\n",
       "        vertical-align: middle;\n",
       "    }\n",
       "\n",
       "    .dataframe tbody tr th {\n",
       "        vertical-align: top;\n",
       "    }\n",
       "\n",
       "    .dataframe thead th {\n",
       "        text-align: right;\n",
       "    }\n",
       "</style>\n",
       "<table border=\"1\" class=\"dataframe\">\n",
       "  <thead>\n",
       "    <tr style=\"text-align: right;\">\n",
       "      <th></th>\n",
       "      <th>id</th>\n",
       "      <th>MO HLADR+ MFI (cells/ul)</th>\n",
       "      <th>Neu CD64+MFI (cells/ul)</th>\n",
       "      <th>CD3+T (cells/ul)</th>\n",
       "      <th>CD8+T (cells/ul)</th>\n",
       "      <th>CD4+T (cells/ul)</th>\n",
       "      <th>NK (cells/ul)</th>\n",
       "      <th>CD19+ (cells/ul)</th>\n",
       "      <th>CD45+ (cells/ul)</th>\n",
       "      <th>Age</th>\n",
       "      <th>Sex 0M1F</th>\n",
       "      <th>Mono CD64+MFI (cells/ul)</th>\n",
       "    </tr>\n",
       "  </thead>\n",
       "  <tbody>\n",
       "    <tr>\n",
       "      <th>0</th>\n",
       "      <td>0</td>\n",
       "      <td>2843.0</td>\n",
       "      <td>156.0</td>\n",
       "      <td>1358.52</td>\n",
       "      <td>730.78</td>\n",
       "      <td>637.85</td>\n",
       "      <td>127.06</td>\n",
       "      <td>94.82</td>\n",
       "      <td>1588.62</td>\n",
       "      <td>45</td>\n",
       "      <td>1</td>\n",
       "      <td>3256.0</td>\n",
       "    </tr>\n",
       "    <tr>\n",
       "      <th>1</th>\n",
       "      <td>1</td>\n",
       "      <td>437.0</td>\n",
       "      <td>137.0</td>\n",
       "      <td>509.43</td>\n",
       "      <td>268.05</td>\n",
       "      <td>243.07</td>\n",
       "      <td>390.86</td>\n",
       "      <td>98.24</td>\n",
       "      <td>1002.76</td>\n",
       "      <td>51</td>\n",
       "      <td>1</td>\n",
       "      <td>491.0</td>\n",
       "    </tr>\n",
       "    <tr>\n",
       "      <th>2</th>\n",
       "      <td>2</td>\n",
       "      <td>826.0</td>\n",
       "      <td>82.0</td>\n",
       "      <td>1232.22</td>\n",
       "      <td>493.42</td>\n",
       "      <td>744.08</td>\n",
       "      <td>516.28</td>\n",
       "      <td>320.15</td>\n",
       "      <td>2200.58</td>\n",
       "      <td>32</td>\n",
       "      <td>0</td>\n",
       "      <td>1381.0</td>\n",
       "    </tr>\n",
       "    <tr>\n",
       "      <th>3</th>\n",
       "      <td>3</td>\n",
       "      <td>861.0</td>\n",
       "      <td>50.0</td>\n",
       "      <td>1512.86</td>\n",
       "      <td>925.51</td>\n",
       "      <td>590.07</td>\n",
       "      <td>380.25</td>\n",
       "      <td>25.80</td>\n",
       "      <td>1929.10</td>\n",
       "      <td>50</td>\n",
       "      <td>0</td>\n",
       "      <td>1377.0</td>\n",
       "    </tr>\n",
       "    <tr>\n",
       "      <th>4</th>\n",
       "      <td>4</td>\n",
       "      <td>1160.0</td>\n",
       "      <td>157.0</td>\n",
       "      <td>890.42</td>\n",
       "      <td>403.91</td>\n",
       "      <td>489.53</td>\n",
       "      <td>266.92</td>\n",
       "      <td>87.63</td>\n",
       "      <td>1251.52</td>\n",
       "      <td>43</td>\n",
       "      <td>0</td>\n",
       "      <td>1844.0</td>\n",
       "    </tr>\n",
       "  </tbody>\n",
       "</table>\n",
       "</div>"
      ],
      "text/plain": [
       "   id  MO HLADR+ MFI (cells/ul)  Neu CD64+MFI (cells/ul)  CD3+T (cells/ul)  \\\n",
       "0   0                    2843.0                    156.0           1358.52   \n",
       "1   1                     437.0                    137.0            509.43   \n",
       "2   2                     826.0                     82.0           1232.22   \n",
       "3   3                     861.0                     50.0           1512.86   \n",
       "4   4                    1160.0                    157.0            890.42   \n",
       "\n",
       "   CD8+T (cells/ul)  CD4+T (cells/ul)  NK (cells/ul)  CD19+ (cells/ul)  \\\n",
       "0            730.78            637.85         127.06             94.82   \n",
       "1            268.05            243.07         390.86             98.24   \n",
       "2            493.42            744.08         516.28            320.15   \n",
       "3            925.51            590.07         380.25             25.80   \n",
       "4            403.91            489.53         266.92             87.63   \n",
       "\n",
       "   CD45+ (cells/ul)  Age  Sex 0M1F  Mono CD64+MFI (cells/ul)  \n",
       "0           1588.62   45         1                    3256.0  \n",
       "1           1002.76   51         1                     491.0  \n",
       "2           2200.58   32         0                    1381.0  \n",
       "3           1929.10   50         0                    1377.0  \n",
       "4           1251.52   43         0                    1844.0  "
      ]
     },
     "execution_count": 5,
     "metadata": {},
     "output_type": "execute_result"
    }
   ],
   "source": [
    "test.head()"
   ]
  },
  {
   "cell_type": "code",
   "execution_count": 6,
   "id": "da8e8fba",
   "metadata": {
    "scrolled": true
   },
   "outputs": [
    {
     "data": {
      "text/plain": [
       "id                          0\n",
       "MO HLADR+ MFI (cells/ul)    1\n",
       "Neu CD64+MFI (cells/ul)     1\n",
       "CD3+T (cells/ul)            0\n",
       "CD8+T (cells/ul)            0\n",
       "CD4+T (cells/ul)            0\n",
       "NK (cells/ul)               0\n",
       "CD19+ (cells/ul)            0\n",
       "CD45+ (cells/ul)            0\n",
       "Age                         0\n",
       "Sex 0M1F                    0\n",
       "Mono CD64+MFI (cells/ul)    1\n",
       "label                       0\n",
       "dtype: int64"
      ]
     },
     "execution_count": 6,
     "metadata": {},
     "output_type": "execute_result"
    }
   ],
   "source": [
    "train.isnull().sum()"
   ]
  },
  {
   "cell_type": "code",
   "execution_count": 7,
   "id": "7df62bb7",
   "metadata": {},
   "outputs": [],
   "source": [
    "train.drop('id', axis = 1, inplace = True)"
   ]
  },
  {
   "cell_type": "code",
   "execution_count": 8,
   "id": "3de4bfb2",
   "metadata": {},
   "outputs": [],
   "source": [
    "# dealing with missing values\n",
    "train.dropna(inplace=True)"
   ]
  },
  {
   "cell_type": "code",
   "execution_count": 9,
   "id": "3a8f73e3",
   "metadata": {},
   "outputs": [],
   "source": [
    "#test.isnull().sum()"
   ]
  },
  {
   "cell_type": "code",
   "execution_count": 10,
   "id": "70aab619",
   "metadata": {},
   "outputs": [],
   "source": [
    "data_num = train[['MO HLADR+ MFI (cells/ul)','Neu CD64+MFI (cells/ul)','CD3+T (cells/ul)','CD8+T (cells/ul)',\n",
    "                  'CD4+T (cells/ul)','NK (cells/ul)','CD19+ (cells/ul)','CD45+ (cells/ul)','Age','Mono CD64+MFI (cells/ul)']]\n",
    "data_cat = train[['Sex 0M1F']]"
   ]
  },
  {
   "cell_type": "code",
   "execution_count": 11,
   "id": "73e146c4",
   "metadata": {},
   "outputs": [],
   "source": [
    "# for i in data_num.columns:\n",
    "#     plt.hist(data_num[i])\n",
    "#     plt.title(i)\n",
    "#     plt.show()"
   ]
  },
  {
   "cell_type": "code",
   "execution_count": 12,
   "id": "f42c05a4",
   "metadata": {},
   "outputs": [],
   "source": [
    "#####to handel the skewness in the data \n",
    "def handel_outlier(col):\n",
    "    train[col] =np.log1p(train[col])"
   ]
  },
  {
   "cell_type": "code",
   "execution_count": 13,
   "id": "0fabc406",
   "metadata": {},
   "outputs": [],
   "source": [
    "#handel_outlier('Neu CD64+MFI (cells/ul)')"
   ]
  },
  {
   "cell_type": "code",
   "execution_count": 14,
   "id": "7a7018be",
   "metadata": {},
   "outputs": [],
   "source": [
    "\n",
    "trainX = train.drop(columns = ['label'])\n",
    "trainY = train['label']\n",
    "testX = test.drop(['id'],axis=1)"
   ]
  },
  {
   "cell_type": "code",
   "execution_count": 15,
   "id": "c30b09bd",
   "metadata": {},
   "outputs": [],
   "source": [
    "# # Feature Scaling\n",
    "# sc = StandardScaler()\n",
    "# trainX = sc.fit_transform(trainX)\n",
    "# testX = sc.fit_transform(testX)"
   ]
  },
  {
   "cell_type": "code",
   "execution_count": 16,
   "id": "0fd968d2",
   "metadata": {},
   "outputs": [],
   "source": [
    "# split the data into train and test\n",
    "X_train, X_val, y_train, y_val = train_test_split(trainX,trainY, test_size = 0.25, random_state=12)"
   ]
  },
  {
   "cell_type": "markdown",
   "id": "55a132d8",
   "metadata": {},
   "source": [
    "# Model Building"
   ]
  },
  {
   "cell_type": "code",
   "execution_count": 30,
   "id": "59585da3",
   "metadata": {},
   "outputs": [
    {
     "name": "stdout",
     "output_type": "stream",
     "text": [
      "{'C': 0.01, 'max_iter': 20}\n",
      " f1 score:  1.0\n",
      " accuracy score:  0.9090909090909091\n",
      "[[15  0]\n",
      " [ 2  5]]\n",
      " precision score:  1.0 \n",
      "\n",
      " recall score:  0.7142857142857143 \n",
      "\n",
      "              precision    recall  f1-score   support\n",
      "\n",
      "           0       0.88      1.00      0.94        15\n",
      "           1       1.00      0.71      0.83         7\n",
      "\n",
      "    accuracy                           0.91        22\n",
      "   macro avg       0.94      0.86      0.89        22\n",
      "weighted avg       0.92      0.91      0.90        22\n",
      "\n"
     ]
    }
   ],
   "source": [
    "#------------------------LogisticRegression-----------------------\n",
    "c_space = np.logspace(-5, 8, 15) \n",
    "param_grid = {'max_iter':[20,40,60,100],\n",
    "    'C':[0.01,0.1,1,10]} \n",
    "\n",
    "lr = LogisticRegression() \n",
    "\n",
    "lr = GridSearchCV(lr, param_grid, cv = 5) \n",
    "\n",
    "lr.fit(X_train,y_train)\n",
    "\n",
    "y_pred =  lr.predict(X_val)\n",
    "print(lr.best_params_)\n",
    "print(' f1 score: ',f1_score(y_val, y_val))\n",
    "print(' accuracy score: ',accuracy_score(y_val, y_pred))\n",
    "print(confusion_matrix(y_val, y_pred))\n",
    "print(' precision score: ',precision_score(y_val, y_pred),'\\n')\n",
    "print(' recall score: ',recall_score(y_val, y_pred),'\\n')\n",
    "print(classification_report(y_val, y_pred))"
   ]
  },
  {
   "cell_type": "code",
   "execution_count": 31,
   "id": "26535ea1",
   "metadata": {},
   "outputs": [],
   "source": [
    "test_pred =  lr.predict(testX)\n",
    "submission = pd.DataFrame({'id':test['id'], 'label':test_pred})\n",
    "submission.to_csv('lr_submission.csv', index=False)"
   ]
  },
  {
   "cell_type": "code",
   "execution_count": null,
   "id": "6ecedc75",
   "metadata": {},
   "outputs": [],
   "source": []
  },
  {
   "cell_type": "code",
   "execution_count": null,
   "id": "20e6e7f8",
   "metadata": {},
   "outputs": [],
   "source": []
  },
  {
   "cell_type": "code",
   "execution_count": 19,
   "id": "6b165ea0",
   "metadata": {},
   "outputs": [
    {
     "name": "stdout",
     "output_type": "stream",
     "text": [
      "{'n_neighbors': 6, 'p': 1, 'weights': 'distance'}\n",
      " f1 score:  1.0\n",
      " accuracy score:  0.8636363636363636\n",
      "[[14  1]\n",
      " [ 2  5]]\n",
      " precision score:  0.8333333333333334 \n",
      "\n",
      " recall score:  0.7142857142857143 \n",
      "\n",
      "              precision    recall  f1-score   support\n",
      "\n",
      "           0       0.88      0.93      0.90        15\n",
      "           1       0.83      0.71      0.77         7\n",
      "\n",
      "    accuracy                           0.86        22\n",
      "   macro avg       0.85      0.82      0.84        22\n",
      "weighted avg       0.86      0.86      0.86        22\n",
      "\n"
     ]
    }
   ],
   "source": [
    "#------------------------k-nearest neighbors (K-nn)-----------------------\n",
    "param_grid =[{\n",
    "\"weights\":[\"uniform\"],\n",
    "\"n_neighbors\":[i for i in range(1,11)]\n",
    "},\n",
    "{\"weights\":[\"distance\"],\n",
    "\"n_neighbors\":[i for i in range(1,11)],\n",
    "\"p\":[i for i in range(1,6)]\n",
    "}\n",
    "]\n",
    "\n",
    "Knnmodel= KNeighborsClassifier()  \n",
    "\n",
    "Knnmodel = GridSearchCV(Knnmodel, param_grid, cv = 5) \n",
    "\n",
    "Knnmodel.fit(X_train, y_train)\n",
    "\n",
    "y_pred =  Knnmodel.predict(X_val)\n",
    "print(Knnmodel.best_params_)\n",
    "print(' f1 score: ',f1_score(y_val, y_val))\n",
    "print(' accuracy score: ',accuracy_score(y_val, y_pred))\n",
    "print(confusion_matrix(y_val, y_pred))\n",
    "print(' precision score: ',precision_score(y_val, y_pred),'\\n')\n",
    "print(' recall score: ',recall_score(y_val, y_pred),'\\n')\n",
    "print(classification_report(y_val, y_pred))"
   ]
  },
  {
   "cell_type": "code",
   "execution_count": 20,
   "id": "e5c1bc7d",
   "metadata": {},
   "outputs": [],
   "source": [
    "test_pred =  Knnmodel.predict(testX)\n",
    "submission = pd.DataFrame({'id':test['id'], 'label':test_pred})\n",
    "submission.to_csv('knn_submission.csv', index=False)"
   ]
  },
  {
   "cell_type": "code",
   "execution_count": 19,
   "id": "9c1a6498",
   "metadata": {},
   "outputs": [
    {
     "name": "stdout",
     "output_type": "stream",
     "text": [
      " f1 score:  1.0\n",
      " accuracy score:  0.6363636363636364\n",
      "[[9 6]\n",
      " [2 5]]\n",
      " precision score:  0.45454545454545453 \n",
      "\n",
      " recall score:  0.7142857142857143 \n",
      "\n",
      "              precision    recall  f1-score   support\n",
      "\n",
      "           0       0.82      0.60      0.69        15\n",
      "           1       0.45      0.71      0.56         7\n",
      "\n",
      "    accuracy                           0.64        22\n",
      "   macro avg       0.64      0.66      0.62        22\n",
      "weighted avg       0.70      0.64      0.65        22\n",
      "\n"
     ]
    }
   ],
   "source": [
    "#------------------------naive bayes-----------------------\n",
    "param_grid = {}\n",
    "NBmodel=  GaussianNB()  \n",
    "NBmodel.fit(X_train, y_train)\n",
    "\n",
    "y_pred =  NBmodel.predict(X_val)\n",
    "print(' f1 score: ',f1_score(y_val, y_val))\n",
    "print(' accuracy score: ',accuracy_score(y_val, y_pred))\n",
    "print(confusion_matrix(y_val, y_pred))\n",
    "print(' precision score: ',precision_score(y_val, y_pred),'\\n')\n",
    "print(' recall score: ',recall_score(y_val, y_pred),'\\n')\n",
    "print(classification_report(y_val, y_pred))"
   ]
  },
  {
   "cell_type": "code",
   "execution_count": 28,
   "id": "09d91ac8",
   "metadata": {},
   "outputs": [
    {
     "name": "stdout",
     "output_type": "stream",
     "text": [
      " f1 score:  1.0\n",
      "best para:  {'C': 1, 'kernel': 'linear'}\n",
      " accuracy score:  0.9090909090909091\n",
      "[[15  0]\n",
      " [ 2  5]]\n",
      " precision score:  1.0 \n",
      "\n",
      " recall score:  0.7142857142857143 \n",
      "\n",
      "              precision    recall  f1-score   support\n",
      "\n",
      "           0       0.88      1.00      0.94        15\n",
      "           1       1.00      0.71      0.83         7\n",
      "\n",
      "    accuracy                           0.91        22\n",
      "   macro avg       0.94      0.86      0.89        22\n",
      "weighted avg       0.92      0.91      0.90        22\n",
      "\n"
     ]
    }
   ],
   "source": [
    "#------------------------support vector classification-----------------------\n",
    "param_grid = [{'kernel': ['rbf'], 'gamma': [1e-3, 1e-4],\n",
    "                     'C': [1, 10, 100, 1000]},\n",
    "                    {'kernel': ['linear'], 'C': [1, 10, 100, 1000]}]\n",
    "SVCmodel=  SVC(probability=True)  \n",
    "SVCmodel = GridSearchCV(SVCmodel, param_grid, cv = 5) \n",
    "SVCmodel.fit(X_train, y_train)\n",
    "\n",
    "y_pred =  SVCmodel.predict(X_val)\n",
    "print(' f1 score: ',f1_score(y_val, y_val))\n",
    "print('best para: ', SVCmodel.best_params_)\n",
    "print(' accuracy score: ',accuracy_score(y_val, y_pred))\n",
    "print(confusion_matrix(y_val, y_pred))\n",
    "print(' precision score: ',precision_score(y_val, y_pred),'\\n')\n",
    "print(' recall score: ',recall_score(y_val, y_pred),'\\n')\n",
    "print(classification_report(y_val, y_pred))"
   ]
  },
  {
   "cell_type": "code",
   "execution_count": 29,
   "id": "f8c6609d",
   "metadata": {},
   "outputs": [],
   "source": [
    "test_pred =  SVCmodel.predict(testX)\n",
    "submission = pd.DataFrame({'id':test['id'], 'label':test_pred})\n",
    "submission.to_csv('svc_submission.csv', index=False)"
   ]
  },
  {
   "cell_type": "code",
   "execution_count": null,
   "id": "75d26982",
   "metadata": {},
   "outputs": [],
   "source": []
  },
  {
   "cell_type": "code",
   "execution_count": 23,
   "id": "8b338ec5",
   "metadata": {},
   "outputs": [
    {
     "name": "stdout",
     "output_type": "stream",
     "text": [
      "{'criterion': 'gini', 'max_depth': 2}\n",
      " f1 score:  1.0\n",
      " accuracy score:  0.8181818181818182\n",
      "[[14  1]\n",
      " [ 3  4]]\n",
      " precision score:  0.8 \n",
      "\n",
      " recall score:  0.5714285714285714 \n",
      "\n",
      "              precision    recall  f1-score   support\n",
      "\n",
      "           0       0.82      0.93      0.87        15\n",
      "           1       0.80      0.57      0.67         7\n",
      "\n",
      "    accuracy                           0.82        22\n",
      "   macro avg       0.81      0.75      0.77        22\n",
      "weighted avg       0.82      0.82      0.81        22\n",
      "\n"
     ]
    }
   ],
   "source": [
    "#------------------------Decision Tree-----------------------\n",
    "param_grid = {\n",
    "    'criterion':['gini','entropy'],\n",
    "    'max_depth':[1,2,3,4,5,6,7,8,9,10]\n",
    "}\n",
    "DTmodel=  DecisionTreeClassifier()\n",
    "DTmodel = GridSearchCV(DTmodel, param_grid, cv =5)\n",
    "DTmodel.fit(X_train, y_train)\n",
    "\n",
    "y_pred =  DTmodel.predict(X_val)\n",
    "print(DTmodel.best_params_)\n",
    "print(' f1 score: ',f1_score(y_val, y_val))\n",
    "print(' accuracy score: ',accuracy_score(y_val, y_pred))\n",
    "print(confusion_matrix(y_val, y_pred))\n",
    "print(' precision score: ',precision_score(y_val, y_pred),'\\n')\n",
    "print(' recall score: ',recall_score(y_val, y_pred),'\\n')\n",
    "print(classification_report(y_val, y_pred))"
   ]
  },
  {
   "cell_type": "code",
   "execution_count": 24,
   "id": "6b463462",
   "metadata": {},
   "outputs": [],
   "source": [
    "test_pred =  DTmodel.predict(testX)\n",
    "submission = pd.DataFrame({'id':test['id'], 'label':test_pred})\n",
    "submission.to_csv('dt_submission.csv', index=False)"
   ]
  },
  {
   "cell_type": "code",
   "execution_count": 26,
   "id": "e40a86d9",
   "metadata": {},
   "outputs": [
    {
     "name": "stdout",
     "output_type": "stream",
     "text": [
      " f1 score:  1.0\n",
      " accuracy score:  0.7727272727272727\n",
      "[[12  3]\n",
      " [ 2  5]]\n",
      " precision score:  0.625 \n",
      "\n",
      " recall score:  0.7142857142857143 \n",
      "\n",
      "              precision    recall  f1-score   support\n",
      "\n",
      "           0       0.86      0.80      0.83        15\n",
      "           1       0.62      0.71      0.67         7\n",
      "\n",
      "    accuracy                           0.77        22\n",
      "   macro avg       0.74      0.76      0.75        22\n",
      "weighted avg       0.78      0.77      0.78        22\n",
      "\n"
     ]
    }
   ],
   "source": [
    "#------------------------Random Forest-----------------------\n",
    "param_grid = {\n",
    "    'criterion':['gini','entropy'],\n",
    "    \"n_estimators\": np.arange(2, 100, 2),\n",
    "    \"max_depth\": np.arange(1, 10, 1),\n",
    "    \n",
    "}\n",
    "\n",
    "RFmodel=  RandomForestClassifier() \n",
    "RFmodel = GridSearchCV(RFmodel, param_grid, cv =5)\n",
    "RFmodel.fit(X_train, y_train)\n",
    "\n",
    "y_pred =  RFmodel.predict(X_val)\n",
    "print(' f1 score: ',f1_score(y_val, y_val))\n",
    "print(' accuracy score: ',accuracy_score(y_val, y_pred))\n",
    "print(confusion_matrix(y_val, y_pred))\n",
    "print(' precision score: ',precision_score(y_val, y_pred),'\\n')\n",
    "print(' recall score: ',recall_score(y_val, y_pred),'\\n')\n",
    "print(classification_report(y_val, y_pred))"
   ]
  },
  {
   "cell_type": "code",
   "execution_count": 27,
   "id": "d4f1e6c2",
   "metadata": {},
   "outputs": [],
   "source": [
    "test_pred =  RFmodel.predict(testX)\n",
    "submission = pd.DataFrame({'id':test['id'], 'label':test_pred})\n",
    "submission.to_csv('rf_submission.csv', index=False)"
   ]
  },
  {
   "cell_type": "code",
   "execution_count": null,
   "id": "09bc4519",
   "metadata": {},
   "outputs": [],
   "source": []
  }
 ],
 "metadata": {
  "kernelspec": {
   "display_name": "FER",
   "language": "python",
   "name": "fer"
  },
  "language_info": {
   "codemirror_mode": {
    "name": "ipython",
    "version": 3
   },
   "file_extension": ".py",
   "mimetype": "text/x-python",
   "name": "python",
   "nbconvert_exporter": "python",
   "pygments_lexer": "ipython3",
   "version": "3.6.10"
  }
 },
 "nbformat": 4,
 "nbformat_minor": 5
}
